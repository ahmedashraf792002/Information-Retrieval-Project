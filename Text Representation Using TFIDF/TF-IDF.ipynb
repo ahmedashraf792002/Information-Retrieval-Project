{
 "cells": [
  {
   "cell_type": "code",
   "execution_count": 43,
   "id": "0a7a616c-a29f-4fd4-8d6e-e27777fdf593",
   "metadata": {},
   "outputs": [],
   "source": [
    "from sklearn.feature_extraction.text import TfidfVectorizer\n",
    "from nltk.corpus import stopwords\n",
    "from nltk.tokenize import word_tokenize\n",
    "import pandas as pd\n",
    "import math\n",
    "import numpy as np\n",
    "import math"
   ]
  },
  {
   "cell_type": "code",
   "execution_count": 10,
   "id": "aa6f50e7-85da-4420-bbf7-698991de5572",
   "metadata": {},
   "outputs": [
    {
     "name": "stdout",
     "output_type": "stream",
     "text": [
      "After English Stopword Removal :\n",
      " The graduation project led Ahmed Ashraf Ahmed AlSayed Ali , team consisted 8 people leader\n",
      "After Arabic Stopword Removal :\n",
      " ليدر مشروع التخرج احمد اشرف احمد السيد وكان تيم يتكون 8 اشخاص الليدر\n"
     ]
    }
   ],
   "source": [
    "def remove_stop(text,language = 1):\n",
    "    '''\n",
    "    language:1 english text\n",
    "    language:0 arabic text\n",
    "    '''\n",
    "    words = word_tokenize(text)\n",
    "    if language:\n",
    "        stopword = stopwords.words('english')\n",
    "        return ' '.join([word for word in words if word not in stopword])\n",
    "    else:\n",
    "        stopword = stopwords.words('arabic')\n",
    "        return ' '.join([word for word in words if word not in stopword])\n",
    "text = 'The graduation project was led by Ahmed Ashraf Ahmed AlSayed Ali, and the team consisted of 8 people with the leader'\n",
    "text1 = 'ليدر مشروع التخرج احمد اشرف احمد السيد على وكان تيم يتكون من 8 اشخاص مع الليدر'\n",
    "print('After English Stopword Removal :\\n',remove_stop(text))\n",
    "print('After Arabic Stopword Removal :\\n',remove_stop(text1,language=0))"
   ]
  },
  {
   "cell_type": "code",
   "execution_count": 11,
   "id": "3fc688cc-9125-458a-bd3f-5557b74746e2",
   "metadata": {},
   "outputs": [],
   "source": [
    "def TFIDF(documents,stopword=0,language=1):\n",
    "    if stopword:\n",
    "        for document_n in range(len(documents)):\n",
    "            documents[document_n]=remove_stop(documents[document_n],language=language)\n",
    "    tfidf=TfidfVectorizer()\n",
    "    documents_tfidf=tfidf.fit_transform(documents)\n",
    "    documents_tfidf=pd.DataFrame.sparse.from_spmatrix(documents_tfidf)\n",
    "    documents_tfidf.columns=tfidf.vocabulary_.keys()\n",
    "    return documents_tfidf"
   ]
  },
  {
   "cell_type": "code",
   "execution_count": 17,
   "id": "1627aead-bed3-4e52-93fa-acc9fbab2ebf",
   "metadata": {},
   "outputs": [],
   "source": [
    "documents=['The graduation project was led by Ahmed Ashraf Ahmed AlSayed Ali, and the team consisted of 8 people with the leader',\n",
    "           'Books are a rich source of knowledge'\n",
    "          ]\n",
    "documents1=['الكتب هي مصدر ثري للمعرفة',\n",
    "            'الصحة الجيدة تعتبر ثروة حقيقية'\n",
    "           ]"
   ]
  },
  {
   "cell_type": "code",
   "execution_count": 18,
   "id": "4a927f77-86f6-4036-91a2-212da2094c84",
   "metadata": {},
   "outputs": [
    {
     "data": {
      "text/html": [
       "<div>\n",
       "<style scoped>\n",
       "    .dataframe tbody tr th:only-of-type {\n",
       "        vertical-align: middle;\n",
       "    }\n",
       "\n",
       "    .dataframe tbody tr th {\n",
       "        vertical-align: top;\n",
       "    }\n",
       "\n",
       "    .dataframe thead th {\n",
       "        text-align: right;\n",
       "    }\n",
       "</style>\n",
       "<table border=\"1\" class=\"dataframe\">\n",
       "  <thead>\n",
       "    <tr style=\"text-align: right;\">\n",
       "      <th></th>\n",
       "      <th>the</th>\n",
       "      <th>graduation</th>\n",
       "      <th>project</th>\n",
       "      <th>was</th>\n",
       "      <th>led</th>\n",
       "      <th>by</th>\n",
       "      <th>ahmed</th>\n",
       "      <th>ashraf</th>\n",
       "      <th>alsayed</th>\n",
       "      <th>ali</th>\n",
       "      <th>...</th>\n",
       "      <th>consisted</th>\n",
       "      <th>of</th>\n",
       "      <th>people</th>\n",
       "      <th>with</th>\n",
       "      <th>leader</th>\n",
       "      <th>books</th>\n",
       "      <th>are</th>\n",
       "      <th>rich</th>\n",
       "      <th>source</th>\n",
       "      <th>knowledge</th>\n",
       "    </tr>\n",
       "  </thead>\n",
       "  <tbody>\n",
       "    <tr>\n",
       "      <th>0</th>\n",
       "      <td>0.381342</td>\n",
       "      <td>0.190671</td>\n",
       "      <td>0.190671</td>\n",
       "      <td>0.190671</td>\n",
       "      <td>0.00000</td>\n",
       "      <td>0.190671</td>\n",
       "      <td>0.00000</td>\n",
       "      <td>0.190671</td>\n",
       "      <td>0.190671</td>\n",
       "      <td>0.190671</td>\n",
       "      <td>...</td>\n",
       "      <td>0.190671</td>\n",
       "      <td>0.135664</td>\n",
       "      <td>0.190671</td>\n",
       "      <td>0.190671</td>\n",
       "      <td>0.00000</td>\n",
       "      <td>0.00000</td>\n",
       "      <td>0.190671</td>\n",
       "      <td>0.572013</td>\n",
       "      <td>0.190671</td>\n",
       "      <td>0.190671</td>\n",
       "    </tr>\n",
       "    <tr>\n",
       "      <th>1</th>\n",
       "      <td>0.000000</td>\n",
       "      <td>0.000000</td>\n",
       "      <td>0.000000</td>\n",
       "      <td>0.000000</td>\n",
       "      <td>0.42616</td>\n",
       "      <td>0.000000</td>\n",
       "      <td>0.42616</td>\n",
       "      <td>0.000000</td>\n",
       "      <td>0.000000</td>\n",
       "      <td>0.000000</td>\n",
       "      <td>...</td>\n",
       "      <td>0.000000</td>\n",
       "      <td>0.303216</td>\n",
       "      <td>0.000000</td>\n",
       "      <td>0.000000</td>\n",
       "      <td>0.42616</td>\n",
       "      <td>0.42616</td>\n",
       "      <td>0.000000</td>\n",
       "      <td>0.000000</td>\n",
       "      <td>0.000000</td>\n",
       "      <td>0.000000</td>\n",
       "    </tr>\n",
       "  </tbody>\n",
       "</table>\n",
       "<p>2 rows × 22 columns</p>\n",
       "</div>"
      ],
      "text/plain": [
       "        the  graduation   project       was      led        by    ahmed  \\\n",
       "0  0.381342    0.190671  0.190671  0.190671  0.00000  0.190671  0.00000   \n",
       "1  0.000000    0.000000  0.000000  0.000000  0.42616  0.000000  0.42616   \n",
       "\n",
       "     ashraf   alsayed       ali  ...  consisted        of    people      with  \\\n",
       "0  0.190671  0.190671  0.190671  ...   0.190671  0.135664  0.190671  0.190671   \n",
       "1  0.000000  0.000000  0.000000  ...   0.000000  0.303216  0.000000  0.000000   \n",
       "\n",
       "    leader    books       are      rich    source  knowledge  \n",
       "0  0.00000  0.00000  0.190671  0.572013  0.190671   0.190671  \n",
       "1  0.42616  0.42616  0.000000  0.000000  0.000000   0.000000  \n",
       "\n",
       "[2 rows x 22 columns]"
      ]
     },
     "execution_count": 18,
     "metadata": {},
     "output_type": "execute_result"
    }
   ],
   "source": [
    "#english tfidf\n",
    "TFIDF(documents)"
   ]
  },
  {
   "cell_type": "code",
   "execution_count": 19,
   "id": "f576407e-a440-4026-ad1e-f4669c3a6bae",
   "metadata": {},
   "outputs": [
    {
     "data": {
      "text/html": [
       "<div>\n",
       "<style scoped>\n",
       "    .dataframe tbody tr th:only-of-type {\n",
       "        vertical-align: middle;\n",
       "    }\n",
       "\n",
       "    .dataframe tbody tr th {\n",
       "        vertical-align: top;\n",
       "    }\n",
       "\n",
       "    .dataframe thead th {\n",
       "        text-align: right;\n",
       "    }\n",
       "</style>\n",
       "<table border=\"1\" class=\"dataframe\">\n",
       "  <thead>\n",
       "    <tr style=\"text-align: right;\">\n",
       "      <th></th>\n",
       "      <th>الكتب</th>\n",
       "      <th>هي</th>\n",
       "      <th>مصدر</th>\n",
       "      <th>ثري</th>\n",
       "      <th>للمعرفة</th>\n",
       "      <th>الصحة</th>\n",
       "      <th>الجيدة</th>\n",
       "      <th>تعتبر</th>\n",
       "      <th>ثروة</th>\n",
       "      <th>حقيقية</th>\n",
       "    </tr>\n",
       "  </thead>\n",
       "  <tbody>\n",
       "    <tr>\n",
       "      <th>0</th>\n",
       "      <td>0.000000</td>\n",
       "      <td>0.000000</td>\n",
       "      <td>0.447214</td>\n",
       "      <td>0.000000</td>\n",
       "      <td>0.000000</td>\n",
       "      <td>0.447214</td>\n",
       "      <td>0.000000</td>\n",
       "      <td>0.447214</td>\n",
       "      <td>0.447214</td>\n",
       "      <td>0.447214</td>\n",
       "    </tr>\n",
       "    <tr>\n",
       "      <th>1</th>\n",
       "      <td>0.447214</td>\n",
       "      <td>0.447214</td>\n",
       "      <td>0.000000</td>\n",
       "      <td>0.447214</td>\n",
       "      <td>0.447214</td>\n",
       "      <td>0.000000</td>\n",
       "      <td>0.447214</td>\n",
       "      <td>0.000000</td>\n",
       "      <td>0.000000</td>\n",
       "      <td>0.000000</td>\n",
       "    </tr>\n",
       "  </tbody>\n",
       "</table>\n",
       "</div>"
      ],
      "text/plain": [
       "      الكتب        هي      مصدر       ثري   للمعرفة     الصحة    الجيدة  \\\n",
       "0  0.000000  0.000000  0.447214  0.000000  0.000000  0.447214  0.000000   \n",
       "1  0.447214  0.447214  0.000000  0.447214  0.447214  0.000000  0.447214   \n",
       "\n",
       "      تعتبر      ثروة    حقيقية  \n",
       "0  0.447214  0.447214  0.447214  \n",
       "1  0.000000  0.000000  0.000000  "
      ]
     },
     "execution_count": 19,
     "metadata": {},
     "output_type": "execute_result"
    }
   ],
   "source": [
    "#arabic tfidf\n",
    "TFIDF(documents1)"
   ]
  },
  {
   "cell_type": "code",
   "execution_count": 20,
   "id": "004a678f-e5a5-4129-b9f2-be53a9a74108",
   "metadata": {},
   "outputs": [
    {
     "data": {
      "text/html": [
       "<div>\n",
       "<style scoped>\n",
       "    .dataframe tbody tr th:only-of-type {\n",
       "        vertical-align: middle;\n",
       "    }\n",
       "\n",
       "    .dataframe tbody tr th {\n",
       "        vertical-align: top;\n",
       "    }\n",
       "\n",
       "    .dataframe thead th {\n",
       "        text-align: right;\n",
       "    }\n",
       "</style>\n",
       "<table border=\"1\" class=\"dataframe\">\n",
       "  <thead>\n",
       "    <tr style=\"text-align: right;\">\n",
       "      <th></th>\n",
       "      <th>the</th>\n",
       "      <th>graduation</th>\n",
       "      <th>project</th>\n",
       "      <th>led</th>\n",
       "      <th>ahmed</th>\n",
       "      <th>ashraf</th>\n",
       "      <th>alsayed</th>\n",
       "      <th>ali</th>\n",
       "      <th>team</th>\n",
       "      <th>consisted</th>\n",
       "      <th>people</th>\n",
       "      <th>leader</th>\n",
       "      <th>books</th>\n",
       "      <th>rich</th>\n",
       "      <th>source</th>\n",
       "      <th>knowledge</th>\n",
       "    </tr>\n",
       "  </thead>\n",
       "  <tbody>\n",
       "    <tr>\n",
       "      <th>0</th>\n",
       "      <td>0.516398</td>\n",
       "      <td>0.258199</td>\n",
       "      <td>0.258199</td>\n",
       "      <td>0.258199</td>\n",
       "      <td>0.0</td>\n",
       "      <td>0.258199</td>\n",
       "      <td>0.258199</td>\n",
       "      <td>0.0</td>\n",
       "      <td>0.258199</td>\n",
       "      <td>0.258199</td>\n",
       "      <td>0.258199</td>\n",
       "      <td>0.258199</td>\n",
       "      <td>0.0</td>\n",
       "      <td>0.0</td>\n",
       "      <td>0.258199</td>\n",
       "      <td>0.258199</td>\n",
       "    </tr>\n",
       "    <tr>\n",
       "      <th>1</th>\n",
       "      <td>0.000000</td>\n",
       "      <td>0.000000</td>\n",
       "      <td>0.000000</td>\n",
       "      <td>0.000000</td>\n",
       "      <td>0.5</td>\n",
       "      <td>0.000000</td>\n",
       "      <td>0.000000</td>\n",
       "      <td>0.5</td>\n",
       "      <td>0.000000</td>\n",
       "      <td>0.000000</td>\n",
       "      <td>0.000000</td>\n",
       "      <td>0.000000</td>\n",
       "      <td>0.5</td>\n",
       "      <td>0.5</td>\n",
       "      <td>0.000000</td>\n",
       "      <td>0.000000</td>\n",
       "    </tr>\n",
       "  </tbody>\n",
       "</table>\n",
       "</div>"
      ],
      "text/plain": [
       "        the  graduation   project       led  ahmed    ashraf   alsayed  ali  \\\n",
       "0  0.516398    0.258199  0.258199  0.258199    0.0  0.258199  0.258199  0.0   \n",
       "1  0.000000    0.000000  0.000000  0.000000    0.5  0.000000  0.000000  0.5   \n",
       "\n",
       "       team  consisted    people    leader  books  rich    source  knowledge  \n",
       "0  0.258199   0.258199  0.258199  0.258199    0.0   0.0  0.258199   0.258199  \n",
       "1  0.000000   0.000000  0.000000  0.000000    0.5   0.5  0.000000   0.000000  "
      ]
     },
     "execution_count": 20,
     "metadata": {},
     "output_type": "execute_result"
    }
   ],
   "source": [
    "#english tfidf and remove stopwords\n",
    "TFIDF(documents,stopword=1)"
   ]
  },
  {
   "cell_type": "code",
   "execution_count": 21,
   "id": "ac68b579-79d7-42cd-a6cf-a24f618081a8",
   "metadata": {},
   "outputs": [
    {
     "data": {
      "text/html": [
       "<div>\n",
       "<style scoped>\n",
       "    .dataframe tbody tr th:only-of-type {\n",
       "        vertical-align: middle;\n",
       "    }\n",
       "\n",
       "    .dataframe tbody tr th {\n",
       "        vertical-align: top;\n",
       "    }\n",
       "\n",
       "    .dataframe thead th {\n",
       "        text-align: right;\n",
       "    }\n",
       "</style>\n",
       "<table border=\"1\" class=\"dataframe\">\n",
       "  <thead>\n",
       "    <tr style=\"text-align: right;\">\n",
       "      <th></th>\n",
       "      <th>الكتب</th>\n",
       "      <th>مصدر</th>\n",
       "      <th>ثري</th>\n",
       "      <th>للمعرفة</th>\n",
       "      <th>الصحة</th>\n",
       "      <th>الجيدة</th>\n",
       "      <th>تعتبر</th>\n",
       "      <th>ثروة</th>\n",
       "      <th>حقيقية</th>\n",
       "    </tr>\n",
       "  </thead>\n",
       "  <tbody>\n",
       "    <tr>\n",
       "      <th>0</th>\n",
       "      <td>0.000000</td>\n",
       "      <td>0.000000</td>\n",
       "      <td>0.5</td>\n",
       "      <td>0.000000</td>\n",
       "      <td>0.000000</td>\n",
       "      <td>0.5</td>\n",
       "      <td>0.000000</td>\n",
       "      <td>0.5</td>\n",
       "      <td>0.5</td>\n",
       "    </tr>\n",
       "    <tr>\n",
       "      <th>1</th>\n",
       "      <td>0.447214</td>\n",
       "      <td>0.447214</td>\n",
       "      <td>0.0</td>\n",
       "      <td>0.447214</td>\n",
       "      <td>0.447214</td>\n",
       "      <td>0.0</td>\n",
       "      <td>0.447214</td>\n",
       "      <td>0.0</td>\n",
       "      <td>0.0</td>\n",
       "    </tr>\n",
       "  </tbody>\n",
       "</table>\n",
       "</div>"
      ],
      "text/plain": [
       "      الكتب      مصدر  ثري   للمعرفة     الصحة  الجيدة     تعتبر  ثروة  حقيقية\n",
       "0  0.000000  0.000000  0.5  0.000000  0.000000     0.5  0.000000   0.5     0.5\n",
       "1  0.447214  0.447214  0.0  0.447214  0.447214     0.0  0.447214   0.0     0.0"
      ]
     },
     "execution_count": 21,
     "metadata": {},
     "output_type": "execute_result"
    }
   ],
   "source": [
    "#arabic tfidf and remove stopwords\n",
    "TFIDF(documents1,stopword=1,language=0)"
   ]
  },
  {
   "cell_type": "code",
   "execution_count": 24,
   "id": "9908165f-7653-44cf-9d5f-0cebd49ce369",
   "metadata": {},
   "outputs": [],
   "source": [
    "#from scartch\n",
    "A = word_tokenize(documents[0])\n",
    "B = word_tokenize(documents[1])"
   ]
  },
  {
   "cell_type": "code",
   "execution_count": 25,
   "id": "e9832790-64da-4b8c-b4fb-61038dd61028",
   "metadata": {},
   "outputs": [
    {
     "name": "stdout",
     "output_type": "stream",
     "text": [
      "['The', 'graduation', 'project', 'led', 'Ahmed', 'Ashraf', 'Ahmed', 'AlSayed', 'Ali', ',', 'team', 'consisted', '8', 'people', 'leader']\n",
      "****************************************************************************************************\n",
      "['Books', 'rich', 'source', 'knowledge']\n"
     ]
    }
   ],
   "source": [
    "print(A)\n",
    "print('*'*100)\n",
    "print(B)"
   ]
  },
  {
   "cell_type": "code",
   "execution_count": 28,
   "id": "1e933098-86a1-43b8-92e9-e12c36d56270",
   "metadata": {},
   "outputs": [
    {
     "name": "stdout",
     "output_type": "stream",
     "text": [
      "{'consisted', 'rich', 'team', 'knowledge', 'AlSayed', 'led', '8', 'Books', 'people', 'Ashraf', 'The', 'Ali', 'source', 'Ahmed', ',', 'project', 'graduation', 'leader'}\n"
     ]
    }
   ],
   "source": [
    "words = set(A).union(B)\n",
    "print(words)"
   ]
  },
  {
   "cell_type": "code",
   "execution_count": 37,
   "id": "fcdfe506-c1e8-4455-9d80-bfd63f5ff42a",
   "metadata": {},
   "outputs": [
    {
     "data": {
      "text/plain": [
       "{'consisted': 1,\n",
       " 'rich': 0,\n",
       " 'team': 1,\n",
       " 'knowledge': 0,\n",
       " 'AlSayed': 1,\n",
       " 'led': 1,\n",
       " '8': 1,\n",
       " 'Books': 0,\n",
       " 'people': 1,\n",
       " 'Ashraf': 1,\n",
       " 'The': 1,\n",
       " 'Ali': 1,\n",
       " 'source': 0,\n",
       " 'Ahmed': 2,\n",
       " ',': 1,\n",
       " 'project': 1,\n",
       " 'graduation': 1,\n",
       " 'leader': 1}"
      ]
     },
     "execution_count": 37,
     "metadata": {},
     "output_type": "execute_result"
    }
   ],
   "source": [
    "numOfWordsA = dict.fromkeys(words, 0)\n",
    "for word in A:\n",
    "    numOfWordsA[word] += 1\n",
    "numOfWordsA"
   ]
  },
  {
   "cell_type": "code",
   "execution_count": 38,
   "id": "955cb0d0-7136-4cf1-b717-91a774e43460",
   "metadata": {},
   "outputs": [
    {
     "data": {
      "text/plain": [
       "{'consisted': 0,\n",
       " 'rich': 1,\n",
       " 'team': 0,\n",
       " 'knowledge': 1,\n",
       " 'AlSayed': 0,\n",
       " 'led': 0,\n",
       " '8': 0,\n",
       " 'Books': 1,\n",
       " 'people': 0,\n",
       " 'Ashraf': 0,\n",
       " 'The': 0,\n",
       " 'Ali': 0,\n",
       " 'source': 1,\n",
       " 'Ahmed': 0,\n",
       " ',': 0,\n",
       " 'project': 0,\n",
       " 'graduation': 0,\n",
       " 'leader': 0}"
      ]
     },
     "execution_count": 38,
     "metadata": {},
     "output_type": "execute_result"
    }
   ],
   "source": [
    "numOfWordsB = dict.fromkeys(words, 0)\n",
    "for word in B:\n",
    "    numOfWordsB[word] += 1\n",
    "numOfWordsB"
   ]
  },
  {
   "cell_type": "code",
   "execution_count": 39,
   "id": "2f26fbe1-856f-4643-8a76-23b632d6dcb7",
   "metadata": {},
   "outputs": [],
   "source": [
    "def computeTF(wordDict, bagOfWords):\n",
    "    tfDict = {}\n",
    "    bagOfWordsCount = len(bagOfWords)\n",
    "    for word, count in wordDict.items():\n",
    "        tfDict[word] = count / float(bagOfWordsCount)\n",
    "    return tfDict"
   ]
  },
  {
   "cell_type": "code",
   "execution_count": 40,
   "id": "2b2f9ef1-fa3b-4a65-9fbb-b22be2e26736",
   "metadata": {},
   "outputs": [
    {
     "data": {
      "text/plain": [
       "{'consisted': 0.06666666666666667,\n",
       " 'rich': 0.0,\n",
       " 'team': 0.06666666666666667,\n",
       " 'knowledge': 0.0,\n",
       " 'AlSayed': 0.06666666666666667,\n",
       " 'led': 0.06666666666666667,\n",
       " '8': 0.06666666666666667,\n",
       " 'Books': 0.0,\n",
       " 'people': 0.06666666666666667,\n",
       " 'Ashraf': 0.06666666666666667,\n",
       " 'The': 0.06666666666666667,\n",
       " 'Ali': 0.06666666666666667,\n",
       " 'source': 0.0,\n",
       " 'Ahmed': 0.13333333333333333,\n",
       " ',': 0.06666666666666667,\n",
       " 'project': 0.06666666666666667,\n",
       " 'graduation': 0.06666666666666667,\n",
       " 'leader': 0.06666666666666667}"
      ]
     },
     "execution_count": 40,
     "metadata": {},
     "output_type": "execute_result"
    }
   ],
   "source": [
    "tfA = computeTF(numOfWordsA,A)\n",
    "tfA"
   ]
  },
  {
   "cell_type": "code",
   "execution_count": 42,
   "id": "9df74034-8ae4-4add-ba41-025b793e7d6c",
   "metadata": {},
   "outputs": [
    {
     "data": {
      "text/plain": [
       "{'consisted': 0.0,\n",
       " 'rich': 0.25,\n",
       " 'team': 0.0,\n",
       " 'knowledge': 0.25,\n",
       " 'AlSayed': 0.0,\n",
       " 'led': 0.0,\n",
       " '8': 0.0,\n",
       " 'Books': 0.25,\n",
       " 'people': 0.0,\n",
       " 'Ashraf': 0.0,\n",
       " 'The': 0.0,\n",
       " 'Ali': 0.0,\n",
       " 'source': 0.25,\n",
       " 'Ahmed': 0.0,\n",
       " ',': 0.0,\n",
       " 'project': 0.0,\n",
       " 'graduation': 0.0,\n",
       " 'leader': 0.0}"
      ]
     },
     "execution_count": 42,
     "metadata": {},
     "output_type": "execute_result"
    }
   ],
   "source": [
    "tfB = computeTF(numOfWordsB, B)\n",
    "tfB"
   ]
  },
  {
   "cell_type": "code",
   "execution_count": 44,
   "id": "f2c216c0-2c90-4fde-839a-7b8c56673971",
   "metadata": {},
   "outputs": [],
   "source": [
    "def computeIDF(documents):\n",
    "    N = len(documents)\n",
    "    idfDict = dict.fromkeys(documents[0].keys(), 0)\n",
    "    for document in documents:\n",
    "        for word, val in document.items():\n",
    "            if val > 0:\n",
    "                idfDict[word] += 1\n",
    "    \n",
    "    for word, val in idfDict.items():\n",
    "        idfDict[word] = math.log(N / float(val))\n",
    "    return idfDict"
   ]
  },
  {
   "cell_type": "code",
   "execution_count": 46,
   "id": "4f7ad36a-d325-414f-b06d-939a0010893c",
   "metadata": {},
   "outputs": [
    {
     "data": {
      "text/plain": [
       "{'consisted': 0.6931471805599453,\n",
       " 'rich': 0.6931471805599453,\n",
       " 'team': 0.6931471805599453,\n",
       " 'knowledge': 0.6931471805599453,\n",
       " 'AlSayed': 0.6931471805599453,\n",
       " 'led': 0.6931471805599453,\n",
       " '8': 0.6931471805599453,\n",
       " 'Books': 0.6931471805599453,\n",
       " 'people': 0.6931471805599453,\n",
       " 'Ashraf': 0.6931471805599453,\n",
       " 'The': 0.6931471805599453,\n",
       " 'Ali': 0.6931471805599453,\n",
       " 'source': 0.6931471805599453,\n",
       " 'Ahmed': 0.6931471805599453,\n",
       " ',': 0.6931471805599453,\n",
       " 'project': 0.6931471805599453,\n",
       " 'graduation': 0.6931471805599453,\n",
       " 'leader': 0.6931471805599453}"
      ]
     },
     "execution_count": 46,
     "metadata": {},
     "output_type": "execute_result"
    }
   ],
   "source": [
    "idfs = computeIDF([numOfWordsA, numOfWordsB])\n",
    "idfs"
   ]
  },
  {
   "cell_type": "code",
   "execution_count": 47,
   "id": "aae971ff-ddea-449a-b8a1-b61170849437",
   "metadata": {},
   "outputs": [],
   "source": [
    "def computeTFIDF(tfBagOfWords, idfs):\n",
    "    tfidf = {}\n",
    "    for word, val in tfBagOfWords.items():\n",
    "        tfidf[word] = val * idfs[word]\n",
    "    return tfidf"
   ]
  },
  {
   "cell_type": "code",
   "execution_count": 48,
   "id": "d75011fe-ba5f-45b4-980c-830e120363da",
   "metadata": {},
   "outputs": [
    {
     "data": {
      "text/plain": [
       "{'consisted': 0.046209812037329684,\n",
       " 'rich': 0.0,\n",
       " 'team': 0.046209812037329684,\n",
       " 'knowledge': 0.0,\n",
       " 'AlSayed': 0.046209812037329684,\n",
       " 'led': 0.046209812037329684,\n",
       " '8': 0.046209812037329684,\n",
       " 'Books': 0.0,\n",
       " 'people': 0.046209812037329684,\n",
       " 'Ashraf': 0.046209812037329684,\n",
       " 'The': 0.046209812037329684,\n",
       " 'Ali': 0.046209812037329684,\n",
       " 'source': 0.0,\n",
       " 'Ahmed': 0.09241962407465937,\n",
       " ',': 0.046209812037329684,\n",
       " 'project': 0.046209812037329684,\n",
       " 'graduation': 0.046209812037329684,\n",
       " 'leader': 0.046209812037329684}"
      ]
     },
     "execution_count": 48,
     "metadata": {},
     "output_type": "execute_result"
    }
   ],
   "source": [
    "tfidfA = computeTFIDF(tfA, idfs)\n",
    "tfidfA"
   ]
  },
  {
   "cell_type": "code",
   "execution_count": 49,
   "id": "66bda407-8915-4f41-bd98-ae91fbfe11fb",
   "metadata": {},
   "outputs": [
    {
     "data": {
      "text/plain": [
       "{'consisted': 0.0,\n",
       " 'rich': 0.17328679513998632,\n",
       " 'team': 0.0,\n",
       " 'knowledge': 0.17328679513998632,\n",
       " 'AlSayed': 0.0,\n",
       " 'led': 0.0,\n",
       " '8': 0.0,\n",
       " 'Books': 0.17328679513998632,\n",
       " 'people': 0.0,\n",
       " 'Ashraf': 0.0,\n",
       " 'The': 0.0,\n",
       " 'Ali': 0.0,\n",
       " 'source': 0.17328679513998632,\n",
       " 'Ahmed': 0.0,\n",
       " ',': 0.0,\n",
       " 'project': 0.0,\n",
       " 'graduation': 0.0,\n",
       " 'leader': 0.0}"
      ]
     },
     "execution_count": 49,
     "metadata": {},
     "output_type": "execute_result"
    }
   ],
   "source": [
    "tfidfB = computeTFIDF(tfB, idfs)\n",
    "tfidfB"
   ]
  },
  {
   "cell_type": "code",
   "execution_count": 50,
   "id": "a373fcdc-41cb-49cf-bfc4-d0975da2f38f",
   "metadata": {},
   "outputs": [
    {
     "data": {
      "text/html": [
       "<div>\n",
       "<style scoped>\n",
       "    .dataframe tbody tr th:only-of-type {\n",
       "        vertical-align: middle;\n",
       "    }\n",
       "\n",
       "    .dataframe tbody tr th {\n",
       "        vertical-align: top;\n",
       "    }\n",
       "\n",
       "    .dataframe thead th {\n",
       "        text-align: right;\n",
       "    }\n",
       "</style>\n",
       "<table border=\"1\" class=\"dataframe\">\n",
       "  <thead>\n",
       "    <tr style=\"text-align: right;\">\n",
       "      <th></th>\n",
       "      <th>consisted</th>\n",
       "      <th>rich</th>\n",
       "      <th>team</th>\n",
       "      <th>knowledge</th>\n",
       "      <th>AlSayed</th>\n",
       "      <th>led</th>\n",
       "      <th>8</th>\n",
       "      <th>Books</th>\n",
       "      <th>people</th>\n",
       "      <th>Ashraf</th>\n",
       "      <th>The</th>\n",
       "      <th>Ali</th>\n",
       "      <th>source</th>\n",
       "      <th>Ahmed</th>\n",
       "      <th>,</th>\n",
       "      <th>project</th>\n",
       "      <th>graduation</th>\n",
       "      <th>leader</th>\n",
       "    </tr>\n",
       "  </thead>\n",
       "  <tbody>\n",
       "    <tr>\n",
       "      <th>0</th>\n",
       "      <td>0.04621</td>\n",
       "      <td>0.000000</td>\n",
       "      <td>0.04621</td>\n",
       "      <td>0.000000</td>\n",
       "      <td>0.04621</td>\n",
       "      <td>0.04621</td>\n",
       "      <td>0.04621</td>\n",
       "      <td>0.000000</td>\n",
       "      <td>0.04621</td>\n",
       "      <td>0.04621</td>\n",
       "      <td>0.04621</td>\n",
       "      <td>0.04621</td>\n",
       "      <td>0.000000</td>\n",
       "      <td>0.09242</td>\n",
       "      <td>0.04621</td>\n",
       "      <td>0.04621</td>\n",
       "      <td>0.04621</td>\n",
       "      <td>0.04621</td>\n",
       "    </tr>\n",
       "    <tr>\n",
       "      <th>1</th>\n",
       "      <td>0.00000</td>\n",
       "      <td>0.173287</td>\n",
       "      <td>0.00000</td>\n",
       "      <td>0.173287</td>\n",
       "      <td>0.00000</td>\n",
       "      <td>0.00000</td>\n",
       "      <td>0.00000</td>\n",
       "      <td>0.173287</td>\n",
       "      <td>0.00000</td>\n",
       "      <td>0.00000</td>\n",
       "      <td>0.00000</td>\n",
       "      <td>0.00000</td>\n",
       "      <td>0.173287</td>\n",
       "      <td>0.00000</td>\n",
       "      <td>0.00000</td>\n",
       "      <td>0.00000</td>\n",
       "      <td>0.00000</td>\n",
       "      <td>0.00000</td>\n",
       "    </tr>\n",
       "  </tbody>\n",
       "</table>\n",
       "</div>"
      ],
      "text/plain": [
       "   consisted      rich     team  knowledge  AlSayed      led        8  \\\n",
       "0    0.04621  0.000000  0.04621   0.000000  0.04621  0.04621  0.04621   \n",
       "1    0.00000  0.173287  0.00000   0.173287  0.00000  0.00000  0.00000   \n",
       "\n",
       "      Books   people   Ashraf      The      Ali    source    Ahmed        ,  \\\n",
       "0  0.000000  0.04621  0.04621  0.04621  0.04621  0.000000  0.09242  0.04621   \n",
       "1  0.173287  0.00000  0.00000  0.00000  0.00000  0.173287  0.00000  0.00000   \n",
       "\n",
       "   project  graduation   leader  \n",
       "0  0.04621     0.04621  0.04621  \n",
       "1  0.00000     0.00000  0.00000  "
      ]
     },
     "execution_count": 50,
     "metadata": {},
     "output_type": "execute_result"
    }
   ],
   "source": [
    "df = pd.DataFrame([tfidfA, tfidfB])\n",
    "df.head()"
   ]
  }
 ],
 "metadata": {
  "kernelspec": {
   "display_name": "Python 3 (ipykernel)",
   "language": "python",
   "name": "python3"
  },
  "language_info": {
   "codemirror_mode": {
    "name": "ipython",
    "version": 3
   },
   "file_extension": ".py",
   "mimetype": "text/x-python",
   "name": "python",
   "nbconvert_exporter": "python",
   "pygments_lexer": "ipython3",
   "version": "3.11.7"
  }
 },
 "nbformat": 4,
 "nbformat_minor": 5
}
